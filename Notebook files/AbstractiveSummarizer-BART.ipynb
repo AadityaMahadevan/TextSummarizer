{
  "nbformat": 4,
  "nbformat_minor": 0,
  "metadata": {
    "accelerator": "GPU",
    "colab": {
      "name": "BART_abs.ipynb",
      "provenance": []
    },
    "kernelspec": {
      "display_name": "Python 3",
      "name": "python3"
    },
    "language_info": {
      "name": "python"
    },
    "widgets": {
      "application/vnd.jupyter.widget-state+json": {
        "589a02f707354d7aaad9157f6a939873": {
          "model_module": "@jupyter-widgets/controls",
          "model_name": "HBoxModel",
          "model_module_version": "1.5.0",
          "state": {
            "_view_name": "HBoxView",
            "_dom_classes": [],
            "_model_name": "HBoxModel",
            "_view_module": "@jupyter-widgets/controls",
            "_model_module_version": "1.5.0",
            "_view_count": null,
            "_view_module_version": "1.5.0",
            "box_style": "",
            "layout": "IPY_MODEL_f0f2b21dd98249c18d1586f9f16230ff",
            "_model_module": "@jupyter-widgets/controls",
            "children": [
              "IPY_MODEL_97028569c9ee4642978059de3757f886",
              "IPY_MODEL_dc2aa5a138af417c9cb984ef618cd386",
              "IPY_MODEL_795ad5cbcfcc4d97a571851b0c78a923"
            ]
          }
        },
        "f0f2b21dd98249c18d1586f9f16230ff": {
          "model_module": "@jupyter-widgets/base",
          "model_name": "LayoutModel",
          "model_module_version": "1.2.0",
          "state": {
            "_view_name": "LayoutView",
            "grid_template_rows": null,
            "right": null,
            "justify_content": null,
            "_view_module": "@jupyter-widgets/base",
            "overflow": null,
            "_model_module_version": "1.2.0",
            "_view_count": null,
            "flex_flow": null,
            "width": null,
            "min_width": null,
            "border": null,
            "align_items": null,
            "bottom": null,
            "_model_module": "@jupyter-widgets/base",
            "top": null,
            "grid_column": null,
            "overflow_y": null,
            "overflow_x": null,
            "grid_auto_flow": null,
            "grid_area": null,
            "grid_template_columns": null,
            "flex": null,
            "_model_name": "LayoutModel",
            "justify_items": null,
            "grid_row": null,
            "max_height": null,
            "align_content": null,
            "visibility": null,
            "align_self": null,
            "height": null,
            "min_height": null,
            "padding": null,
            "grid_auto_rows": null,
            "grid_gap": null,
            "max_width": null,
            "order": null,
            "_view_module_version": "1.2.0",
            "grid_template_areas": null,
            "object_position": null,
            "object_fit": null,
            "grid_auto_columns": null,
            "margin": null,
            "display": null,
            "left": null
          }
        },
        "97028569c9ee4642978059de3757f886": {
          "model_module": "@jupyter-widgets/controls",
          "model_name": "HTMLModel",
          "model_module_version": "1.5.0",
          "state": {
            "_view_name": "HTMLView",
            "style": "IPY_MODEL_4fa769426b6a460cb5bca9175cac9e7f",
            "_dom_classes": [],
            "description": "",
            "_model_name": "HTMLModel",
            "placeholder": "​",
            "_view_module": "@jupyter-widgets/controls",
            "_model_module_version": "1.5.0",
            "value": "Downloading: 100%",
            "_view_count": null,
            "_view_module_version": "1.5.0",
            "description_tooltip": null,
            "_model_module": "@jupyter-widgets/controls",
            "layout": "IPY_MODEL_84c25e08fb614e1dbf1463140b848a0f"
          }
        },
        "dc2aa5a138af417c9cb984ef618cd386": {
          "model_module": "@jupyter-widgets/controls",
          "model_name": "FloatProgressModel",
          "model_module_version": "1.5.0",
          "state": {
            "_view_name": "ProgressView",
            "style": "IPY_MODEL_cbdaf312aa1943f48464f9d12a12dff0",
            "_dom_classes": [],
            "description": "",
            "_model_name": "FloatProgressModel",
            "bar_style": "success",
            "max": 1585,
            "_view_module": "@jupyter-widgets/controls",
            "_model_module_version": "1.5.0",
            "value": 1585,
            "_view_count": null,
            "_view_module_version": "1.5.0",
            "orientation": "horizontal",
            "min": 0,
            "description_tooltip": null,
            "_model_module": "@jupyter-widgets/controls",
            "layout": "IPY_MODEL_b1a034a3a3e74005b9c5bd35b05580fb"
          }
        },
        "795ad5cbcfcc4d97a571851b0c78a923": {
          "model_module": "@jupyter-widgets/controls",
          "model_name": "HTMLModel",
          "model_module_version": "1.5.0",
          "state": {
            "_view_name": "HTMLView",
            "style": "IPY_MODEL_aafc226e8d4841af93532190313fa3ff",
            "_dom_classes": [],
            "description": "",
            "_model_name": "HTMLModel",
            "placeholder": "​",
            "_view_module": "@jupyter-widgets/controls",
            "_model_module_version": "1.5.0",
            "value": " 1.55k/1.55k [00:00&lt;00:00, 23.4kB/s]",
            "_view_count": null,
            "_view_module_version": "1.5.0",
            "description_tooltip": null,
            "_model_module": "@jupyter-widgets/controls",
            "layout": "IPY_MODEL_0aba11b5cd9f45cd869adc6db3696d9d"
          }
        },
        "4fa769426b6a460cb5bca9175cac9e7f": {
          "model_module": "@jupyter-widgets/controls",
          "model_name": "DescriptionStyleModel",
          "model_module_version": "1.5.0",
          "state": {
            "_view_name": "StyleView",
            "_model_name": "DescriptionStyleModel",
            "description_width": "",
            "_view_module": "@jupyter-widgets/base",
            "_model_module_version": "1.5.0",
            "_view_count": null,
            "_view_module_version": "1.2.0",
            "_model_module": "@jupyter-widgets/controls"
          }
        },
        "84c25e08fb614e1dbf1463140b848a0f": {
          "model_module": "@jupyter-widgets/base",
          "model_name": "LayoutModel",
          "model_module_version": "1.2.0",
          "state": {
            "_view_name": "LayoutView",
            "grid_template_rows": null,
            "right": null,
            "justify_content": null,
            "_view_module": "@jupyter-widgets/base",
            "overflow": null,
            "_model_module_version": "1.2.0",
            "_view_count": null,
            "flex_flow": null,
            "width": null,
            "min_width": null,
            "border": null,
            "align_items": null,
            "bottom": null,
            "_model_module": "@jupyter-widgets/base",
            "top": null,
            "grid_column": null,
            "overflow_y": null,
            "overflow_x": null,
            "grid_auto_flow": null,
            "grid_area": null,
            "grid_template_columns": null,
            "flex": null,
            "_model_name": "LayoutModel",
            "justify_items": null,
            "grid_row": null,
            "max_height": null,
            "align_content": null,
            "visibility": null,
            "align_self": null,
            "height": null,
            "min_height": null,
            "padding": null,
            "grid_auto_rows": null,
            "grid_gap": null,
            "max_width": null,
            "order": null,
            "_view_module_version": "1.2.0",
            "grid_template_areas": null,
            "object_position": null,
            "object_fit": null,
            "grid_auto_columns": null,
            "margin": null,
            "display": null,
            "left": null
          }
        },
        "cbdaf312aa1943f48464f9d12a12dff0": {
          "model_module": "@jupyter-widgets/controls",
          "model_name": "ProgressStyleModel",
          "model_module_version": "1.5.0",
          "state": {
            "_view_name": "StyleView",
            "_model_name": "ProgressStyleModel",
            "description_width": "",
            "_view_module": "@jupyter-widgets/base",
            "_model_module_version": "1.5.0",
            "_view_count": null,
            "_view_module_version": "1.2.0",
            "bar_color": null,
            "_model_module": "@jupyter-widgets/controls"
          }
        },
        "b1a034a3a3e74005b9c5bd35b05580fb": {
          "model_module": "@jupyter-widgets/base",
          "model_name": "LayoutModel",
          "model_module_version": "1.2.0",
          "state": {
            "_view_name": "LayoutView",
            "grid_template_rows": null,
            "right": null,
            "justify_content": null,
            "_view_module": "@jupyter-widgets/base",
            "overflow": null,
            "_model_module_version": "1.2.0",
            "_view_count": null,
            "flex_flow": null,
            "width": null,
            "min_width": null,
            "border": null,
            "align_items": null,
            "bottom": null,
            "_model_module": "@jupyter-widgets/base",
            "top": null,
            "grid_column": null,
            "overflow_y": null,
            "overflow_x": null,
            "grid_auto_flow": null,
            "grid_area": null,
            "grid_template_columns": null,
            "flex": null,
            "_model_name": "LayoutModel",
            "justify_items": null,
            "grid_row": null,
            "max_height": null,
            "align_content": null,
            "visibility": null,
            "align_self": null,
            "height": null,
            "min_height": null,
            "padding": null,
            "grid_auto_rows": null,
            "grid_gap": null,
            "max_width": null,
            "order": null,
            "_view_module_version": "1.2.0",
            "grid_template_areas": null,
            "object_position": null,
            "object_fit": null,
            "grid_auto_columns": null,
            "margin": null,
            "display": null,
            "left": null
          }
        },
        "aafc226e8d4841af93532190313fa3ff": {
          "model_module": "@jupyter-widgets/controls",
          "model_name": "DescriptionStyleModel",
          "model_module_version": "1.5.0",
          "state": {
            "_view_name": "StyleView",
            "_model_name": "DescriptionStyleModel",
            "description_width": "",
            "_view_module": "@jupyter-widgets/base",
            "_model_module_version": "1.5.0",
            "_view_count": null,
            "_view_module_version": "1.2.0",
            "_model_module": "@jupyter-widgets/controls"
          }
        },
        "0aba11b5cd9f45cd869adc6db3696d9d": {
          "model_module": "@jupyter-widgets/base",
          "model_name": "LayoutModel",
          "model_module_version": "1.2.0",
          "state": {
            "_view_name": "LayoutView",
            "grid_template_rows": null,
            "right": null,
            "justify_content": null,
            "_view_module": "@jupyter-widgets/base",
            "overflow": null,
            "_model_module_version": "1.2.0",
            "_view_count": null,
            "flex_flow": null,
            "width": null,
            "min_width": null,
            "border": null,
            "align_items": null,
            "bottom": null,
            "_model_module": "@jupyter-widgets/base",
            "top": null,
            "grid_column": null,
            "overflow_y": null,
            "overflow_x": null,
            "grid_auto_flow": null,
            "grid_area": null,
            "grid_template_columns": null,
            "flex": null,
            "_model_name": "LayoutModel",
            "justify_items": null,
            "grid_row": null,
            "max_height": null,
            "align_content": null,
            "visibility": null,
            "align_self": null,
            "height": null,
            "min_height": null,
            "padding": null,
            "grid_auto_rows": null,
            "grid_gap": null,
            "max_width": null,
            "order": null,
            "_view_module_version": "1.2.0",
            "grid_template_areas": null,
            "object_position": null,
            "object_fit": null,
            "grid_auto_columns": null,
            "margin": null,
            "display": null,
            "left": null
          }
        },
        "cd3951584cc6401289ae30b6d64fc2be": {
          "model_module": "@jupyter-widgets/controls",
          "model_name": "HBoxModel",
          "model_module_version": "1.5.0",
          "state": {
            "_view_name": "HBoxView",
            "_dom_classes": [],
            "_model_name": "HBoxModel",
            "_view_module": "@jupyter-widgets/controls",
            "_model_module_version": "1.5.0",
            "_view_count": null,
            "_view_module_version": "1.5.0",
            "box_style": "",
            "layout": "IPY_MODEL_10587d36ec2e4fabb93f4c7801e1b16b",
            "_model_module": "@jupyter-widgets/controls",
            "children": [
              "IPY_MODEL_43961ac9be604c858be88ee4ed47d6bd",
              "IPY_MODEL_11624aabdfa34a039539c36e90c4ef82",
              "IPY_MODEL_afdd9e1f105942f385290c645763c643"
            ]
          }
        },
        "10587d36ec2e4fabb93f4c7801e1b16b": {
          "model_module": "@jupyter-widgets/base",
          "model_name": "LayoutModel",
          "model_module_version": "1.2.0",
          "state": {
            "_view_name": "LayoutView",
            "grid_template_rows": null,
            "right": null,
            "justify_content": null,
            "_view_module": "@jupyter-widgets/base",
            "overflow": null,
            "_model_module_version": "1.2.0",
            "_view_count": null,
            "flex_flow": null,
            "width": null,
            "min_width": null,
            "border": null,
            "align_items": null,
            "bottom": null,
            "_model_module": "@jupyter-widgets/base",
            "top": null,
            "grid_column": null,
            "overflow_y": null,
            "overflow_x": null,
            "grid_auto_flow": null,
            "grid_area": null,
            "grid_template_columns": null,
            "flex": null,
            "_model_name": "LayoutModel",
            "justify_items": null,
            "grid_row": null,
            "max_height": null,
            "align_content": null,
            "visibility": null,
            "align_self": null,
            "height": null,
            "min_height": null,
            "padding": null,
            "grid_auto_rows": null,
            "grid_gap": null,
            "max_width": null,
            "order": null,
            "_view_module_version": "1.2.0",
            "grid_template_areas": null,
            "object_position": null,
            "object_fit": null,
            "grid_auto_columns": null,
            "margin": null,
            "display": null,
            "left": null
          }
        },
        "43961ac9be604c858be88ee4ed47d6bd": {
          "model_module": "@jupyter-widgets/controls",
          "model_name": "HTMLModel",
          "model_module_version": "1.5.0",
          "state": {
            "_view_name": "HTMLView",
            "style": "IPY_MODEL_867ea5ac3f764feaa3e12850dddd8ac8",
            "_dom_classes": [],
            "description": "",
            "_model_name": "HTMLModel",
            "placeholder": "​",
            "_view_module": "@jupyter-widgets/controls",
            "_model_module_version": "1.5.0",
            "value": "Downloading: 100%",
            "_view_count": null,
            "_view_module_version": "1.5.0",
            "description_tooltip": null,
            "_model_module": "@jupyter-widgets/controls",
            "layout": "IPY_MODEL_d09d731180694b6a9469b70f417bf942"
          }
        },
        "11624aabdfa34a039539c36e90c4ef82": {
          "model_module": "@jupyter-widgets/controls",
          "model_name": "FloatProgressModel",
          "model_module_version": "1.5.0",
          "state": {
            "_view_name": "ProgressView",
            "style": "IPY_MODEL_cd2febb9635446ec8c01a118d0c3cdb6",
            "_dom_classes": [],
            "description": "",
            "_model_name": "FloatProgressModel",
            "bar_style": "success",
            "max": 1625270765,
            "_view_module": "@jupyter-widgets/controls",
            "_model_module_version": "1.5.0",
            "value": 1625270765,
            "_view_count": null,
            "_view_module_version": "1.5.0",
            "orientation": "horizontal",
            "min": 0,
            "description_tooltip": null,
            "_model_module": "@jupyter-widgets/controls",
            "layout": "IPY_MODEL_88521b58c8064093a4aed4193e7260e0"
          }
        },
        "afdd9e1f105942f385290c645763c643": {
          "model_module": "@jupyter-widgets/controls",
          "model_name": "HTMLModel",
          "model_module_version": "1.5.0",
          "state": {
            "_view_name": "HTMLView",
            "style": "IPY_MODEL_179df1aa09ad4fdc93e78c2443350f75",
            "_dom_classes": [],
            "description": "",
            "_model_name": "HTMLModel",
            "placeholder": "​",
            "_view_module": "@jupyter-widgets/controls",
            "_model_module_version": "1.5.0",
            "value": " 1.51G/1.51G [01:15&lt;00:00, 23.7MB/s]",
            "_view_count": null,
            "_view_module_version": "1.5.0",
            "description_tooltip": null,
            "_model_module": "@jupyter-widgets/controls",
            "layout": "IPY_MODEL_5f9fa43026c54e2993b22d9e42916c04"
          }
        },
        "867ea5ac3f764feaa3e12850dddd8ac8": {
          "model_module": "@jupyter-widgets/controls",
          "model_name": "DescriptionStyleModel",
          "model_module_version": "1.5.0",
          "state": {
            "_view_name": "StyleView",
            "_model_name": "DescriptionStyleModel",
            "description_width": "",
            "_view_module": "@jupyter-widgets/base",
            "_model_module_version": "1.5.0",
            "_view_count": null,
            "_view_module_version": "1.2.0",
            "_model_module": "@jupyter-widgets/controls"
          }
        },
        "d09d731180694b6a9469b70f417bf942": {
          "model_module": "@jupyter-widgets/base",
          "model_name": "LayoutModel",
          "model_module_version": "1.2.0",
          "state": {
            "_view_name": "LayoutView",
            "grid_template_rows": null,
            "right": null,
            "justify_content": null,
            "_view_module": "@jupyter-widgets/base",
            "overflow": null,
            "_model_module_version": "1.2.0",
            "_view_count": null,
            "flex_flow": null,
            "width": null,
            "min_width": null,
            "border": null,
            "align_items": null,
            "bottom": null,
            "_model_module": "@jupyter-widgets/base",
            "top": null,
            "grid_column": null,
            "overflow_y": null,
            "overflow_x": null,
            "grid_auto_flow": null,
            "grid_area": null,
            "grid_template_columns": null,
            "flex": null,
            "_model_name": "LayoutModel",
            "justify_items": null,
            "grid_row": null,
            "max_height": null,
            "align_content": null,
            "visibility": null,
            "align_self": null,
            "height": null,
            "min_height": null,
            "padding": null,
            "grid_auto_rows": null,
            "grid_gap": null,
            "max_width": null,
            "order": null,
            "_view_module_version": "1.2.0",
            "grid_template_areas": null,
            "object_position": null,
            "object_fit": null,
            "grid_auto_columns": null,
            "margin": null,
            "display": null,
            "left": null
          }
        },
        "cd2febb9635446ec8c01a118d0c3cdb6": {
          "model_module": "@jupyter-widgets/controls",
          "model_name": "ProgressStyleModel",
          "model_module_version": "1.5.0",
          "state": {
            "_view_name": "StyleView",
            "_model_name": "ProgressStyleModel",
            "description_width": "",
            "_view_module": "@jupyter-widgets/base",
            "_model_module_version": "1.5.0",
            "_view_count": null,
            "_view_module_version": "1.2.0",
            "bar_color": null,
            "_model_module": "@jupyter-widgets/controls"
          }
        },
        "88521b58c8064093a4aed4193e7260e0": {
          "model_module": "@jupyter-widgets/base",
          "model_name": "LayoutModel",
          "model_module_version": "1.2.0",
          "state": {
            "_view_name": "LayoutView",
            "grid_template_rows": null,
            "right": null,
            "justify_content": null,
            "_view_module": "@jupyter-widgets/base",
            "overflow": null,
            "_model_module_version": "1.2.0",
            "_view_count": null,
            "flex_flow": null,
            "width": null,
            "min_width": null,
            "border": null,
            "align_items": null,
            "bottom": null,
            "_model_module": "@jupyter-widgets/base",
            "top": null,
            "grid_column": null,
            "overflow_y": null,
            "overflow_x": null,
            "grid_auto_flow": null,
            "grid_area": null,
            "grid_template_columns": null,
            "flex": null,
            "_model_name": "LayoutModel",
            "justify_items": null,
            "grid_row": null,
            "max_height": null,
            "align_content": null,
            "visibility": null,
            "align_self": null,
            "height": null,
            "min_height": null,
            "padding": null,
            "grid_auto_rows": null,
            "grid_gap": null,
            "max_width": null,
            "order": null,
            "_view_module_version": "1.2.0",
            "grid_template_areas": null,
            "object_position": null,
            "object_fit": null,
            "grid_auto_columns": null,
            "margin": null,
            "display": null,
            "left": null
          }
        },
        "179df1aa09ad4fdc93e78c2443350f75": {
          "model_module": "@jupyter-widgets/controls",
          "model_name": "DescriptionStyleModel",
          "model_module_version": "1.5.0",
          "state": {
            "_view_name": "StyleView",
            "_model_name": "DescriptionStyleModel",
            "description_width": "",
            "_view_module": "@jupyter-widgets/base",
            "_model_module_version": "1.5.0",
            "_view_count": null,
            "_view_module_version": "1.2.0",
            "_model_module": "@jupyter-widgets/controls"
          }
        },
        "5f9fa43026c54e2993b22d9e42916c04": {
          "model_module": "@jupyter-widgets/base",
          "model_name": "LayoutModel",
          "model_module_version": "1.2.0",
          "state": {
            "_view_name": "LayoutView",
            "grid_template_rows": null,
            "right": null,
            "justify_content": null,
            "_view_module": "@jupyter-widgets/base",
            "overflow": null,
            "_model_module_version": "1.2.0",
            "_view_count": null,
            "flex_flow": null,
            "width": null,
            "min_width": null,
            "border": null,
            "align_items": null,
            "bottom": null,
            "_model_module": "@jupyter-widgets/base",
            "top": null,
            "grid_column": null,
            "overflow_y": null,
            "overflow_x": null,
            "grid_auto_flow": null,
            "grid_area": null,
            "grid_template_columns": null,
            "flex": null,
            "_model_name": "LayoutModel",
            "justify_items": null,
            "grid_row": null,
            "max_height": null,
            "align_content": null,
            "visibility": null,
            "align_self": null,
            "height": null,
            "min_height": null,
            "padding": null,
            "grid_auto_rows": null,
            "grid_gap": null,
            "max_width": null,
            "order": null,
            "_view_module_version": "1.2.0",
            "grid_template_areas": null,
            "object_position": null,
            "object_fit": null,
            "grid_auto_columns": null,
            "margin": null,
            "display": null,
            "left": null
          }
        },
        "dd455e88db414411b7416076f60dbccb": {
          "model_module": "@jupyter-widgets/controls",
          "model_name": "HBoxModel",
          "model_module_version": "1.5.0",
          "state": {
            "_view_name": "HBoxView",
            "_dom_classes": [],
            "_model_name": "HBoxModel",
            "_view_module": "@jupyter-widgets/controls",
            "_model_module_version": "1.5.0",
            "_view_count": null,
            "_view_module_version": "1.5.0",
            "box_style": "",
            "layout": "IPY_MODEL_59c57604c4c44d7a9c39ab7a2972251a",
            "_model_module": "@jupyter-widgets/controls",
            "children": [
              "IPY_MODEL_d7d7ebdced974af795678141ec85ba6f",
              "IPY_MODEL_3304bd81f8a6421d89728062d5e0b6d8",
              "IPY_MODEL_45bc722ec256475db0ca179b9a2fae30"
            ]
          }
        },
        "59c57604c4c44d7a9c39ab7a2972251a": {
          "model_module": "@jupyter-widgets/base",
          "model_name": "LayoutModel",
          "model_module_version": "1.2.0",
          "state": {
            "_view_name": "LayoutView",
            "grid_template_rows": null,
            "right": null,
            "justify_content": null,
            "_view_module": "@jupyter-widgets/base",
            "overflow": null,
            "_model_module_version": "1.2.0",
            "_view_count": null,
            "flex_flow": null,
            "width": null,
            "min_width": null,
            "border": null,
            "align_items": null,
            "bottom": null,
            "_model_module": "@jupyter-widgets/base",
            "top": null,
            "grid_column": null,
            "overflow_y": null,
            "overflow_x": null,
            "grid_auto_flow": null,
            "grid_area": null,
            "grid_template_columns": null,
            "flex": null,
            "_model_name": "LayoutModel",
            "justify_items": null,
            "grid_row": null,
            "max_height": null,
            "align_content": null,
            "visibility": null,
            "align_self": null,
            "height": null,
            "min_height": null,
            "padding": null,
            "grid_auto_rows": null,
            "grid_gap": null,
            "max_width": null,
            "order": null,
            "_view_module_version": "1.2.0",
            "grid_template_areas": null,
            "object_position": null,
            "object_fit": null,
            "grid_auto_columns": null,
            "margin": null,
            "display": null,
            "left": null
          }
        },
        "d7d7ebdced974af795678141ec85ba6f": {
          "model_module": "@jupyter-widgets/controls",
          "model_name": "HTMLModel",
          "model_module_version": "1.5.0",
          "state": {
            "_view_name": "HTMLView",
            "style": "IPY_MODEL_06c92f122577483b92edc9ff2f2e337d",
            "_dom_classes": [],
            "description": "",
            "_model_name": "HTMLModel",
            "placeholder": "​",
            "_view_module": "@jupyter-widgets/controls",
            "_model_module_version": "1.5.0",
            "value": "Downloading: 100%",
            "_view_count": null,
            "_view_module_version": "1.5.0",
            "description_tooltip": null,
            "_model_module": "@jupyter-widgets/controls",
            "layout": "IPY_MODEL_6974f6fbce7e4a888eab820e27018914"
          }
        },
        "3304bd81f8a6421d89728062d5e0b6d8": {
          "model_module": "@jupyter-widgets/controls",
          "model_name": "FloatProgressModel",
          "model_module_version": "1.5.0",
          "state": {
            "_view_name": "ProgressView",
            "style": "IPY_MODEL_9d2d49e160d6405bbabfea8785388de6",
            "_dom_classes": [],
            "description": "",
            "_model_name": "FloatProgressModel",
            "bar_style": "success",
            "max": 898823,
            "_view_module": "@jupyter-widgets/controls",
            "_model_module_version": "1.5.0",
            "value": 898823,
            "_view_count": null,
            "_view_module_version": "1.5.0",
            "orientation": "horizontal",
            "min": 0,
            "description_tooltip": null,
            "_model_module": "@jupyter-widgets/controls",
            "layout": "IPY_MODEL_92283bc0284f4124a1bc1eee8884eb25"
          }
        },
        "45bc722ec256475db0ca179b9a2fae30": {
          "model_module": "@jupyter-widgets/controls",
          "model_name": "HTMLModel",
          "model_module_version": "1.5.0",
          "state": {
            "_view_name": "HTMLView",
            "style": "IPY_MODEL_74ca7c2be0634a9dba645855490f7870",
            "_dom_classes": [],
            "description": "",
            "_model_name": "HTMLModel",
            "placeholder": "​",
            "_view_module": "@jupyter-widgets/controls",
            "_model_module_version": "1.5.0",
            "value": " 878k/878k [00:01&lt;00:00, 1.23MB/s]",
            "_view_count": null,
            "_view_module_version": "1.5.0",
            "description_tooltip": null,
            "_model_module": "@jupyter-widgets/controls",
            "layout": "IPY_MODEL_4e30d4dc13fe4d628ef6fd71f3985f42"
          }
        },
        "06c92f122577483b92edc9ff2f2e337d": {
          "model_module": "@jupyter-widgets/controls",
          "model_name": "DescriptionStyleModel",
          "model_module_version": "1.5.0",
          "state": {
            "_view_name": "StyleView",
            "_model_name": "DescriptionStyleModel",
            "description_width": "",
            "_view_module": "@jupyter-widgets/base",
            "_model_module_version": "1.5.0",
            "_view_count": null,
            "_view_module_version": "1.2.0",
            "_model_module": "@jupyter-widgets/controls"
          }
        },
        "6974f6fbce7e4a888eab820e27018914": {
          "model_module": "@jupyter-widgets/base",
          "model_name": "LayoutModel",
          "model_module_version": "1.2.0",
          "state": {
            "_view_name": "LayoutView",
            "grid_template_rows": null,
            "right": null,
            "justify_content": null,
            "_view_module": "@jupyter-widgets/base",
            "overflow": null,
            "_model_module_version": "1.2.0",
            "_view_count": null,
            "flex_flow": null,
            "width": null,
            "min_width": null,
            "border": null,
            "align_items": null,
            "bottom": null,
            "_model_module": "@jupyter-widgets/base",
            "top": null,
            "grid_column": null,
            "overflow_y": null,
            "overflow_x": null,
            "grid_auto_flow": null,
            "grid_area": null,
            "grid_template_columns": null,
            "flex": null,
            "_model_name": "LayoutModel",
            "justify_items": null,
            "grid_row": null,
            "max_height": null,
            "align_content": null,
            "visibility": null,
            "align_self": null,
            "height": null,
            "min_height": null,
            "padding": null,
            "grid_auto_rows": null,
            "grid_gap": null,
            "max_width": null,
            "order": null,
            "_view_module_version": "1.2.0",
            "grid_template_areas": null,
            "object_position": null,
            "object_fit": null,
            "grid_auto_columns": null,
            "margin": null,
            "display": null,
            "left": null
          }
        },
        "9d2d49e160d6405bbabfea8785388de6": {
          "model_module": "@jupyter-widgets/controls",
          "model_name": "ProgressStyleModel",
          "model_module_version": "1.5.0",
          "state": {
            "_view_name": "StyleView",
            "_model_name": "ProgressStyleModel",
            "description_width": "",
            "_view_module": "@jupyter-widgets/base",
            "_model_module_version": "1.5.0",
            "_view_count": null,
            "_view_module_version": "1.2.0",
            "bar_color": null,
            "_model_module": "@jupyter-widgets/controls"
          }
        },
        "92283bc0284f4124a1bc1eee8884eb25": {
          "model_module": "@jupyter-widgets/base",
          "model_name": "LayoutModel",
          "model_module_version": "1.2.0",
          "state": {
            "_view_name": "LayoutView",
            "grid_template_rows": null,
            "right": null,
            "justify_content": null,
            "_view_module": "@jupyter-widgets/base",
            "overflow": null,
            "_model_module_version": "1.2.0",
            "_view_count": null,
            "flex_flow": null,
            "width": null,
            "min_width": null,
            "border": null,
            "align_items": null,
            "bottom": null,
            "_model_module": "@jupyter-widgets/base",
            "top": null,
            "grid_column": null,
            "overflow_y": null,
            "overflow_x": null,
            "grid_auto_flow": null,
            "grid_area": null,
            "grid_template_columns": null,
            "flex": null,
            "_model_name": "LayoutModel",
            "justify_items": null,
            "grid_row": null,
            "max_height": null,
            "align_content": null,
            "visibility": null,
            "align_self": null,
            "height": null,
            "min_height": null,
            "padding": null,
            "grid_auto_rows": null,
            "grid_gap": null,
            "max_width": null,
            "order": null,
            "_view_module_version": "1.2.0",
            "grid_template_areas": null,
            "object_position": null,
            "object_fit": null,
            "grid_auto_columns": null,
            "margin": null,
            "display": null,
            "left": null
          }
        },
        "74ca7c2be0634a9dba645855490f7870": {
          "model_module": "@jupyter-widgets/controls",
          "model_name": "DescriptionStyleModel",
          "model_module_version": "1.5.0",
          "state": {
            "_view_name": "StyleView",
            "_model_name": "DescriptionStyleModel",
            "description_width": "",
            "_view_module": "@jupyter-widgets/base",
            "_model_module_version": "1.5.0",
            "_view_count": null,
            "_view_module_version": "1.2.0",
            "_model_module": "@jupyter-widgets/controls"
          }
        },
        "4e30d4dc13fe4d628ef6fd71f3985f42": {
          "model_module": "@jupyter-widgets/base",
          "model_name": "LayoutModel",
          "model_module_version": "1.2.0",
          "state": {
            "_view_name": "LayoutView",
            "grid_template_rows": null,
            "right": null,
            "justify_content": null,
            "_view_module": "@jupyter-widgets/base",
            "overflow": null,
            "_model_module_version": "1.2.0",
            "_view_count": null,
            "flex_flow": null,
            "width": null,
            "min_width": null,
            "border": null,
            "align_items": null,
            "bottom": null,
            "_model_module": "@jupyter-widgets/base",
            "top": null,
            "grid_column": null,
            "overflow_y": null,
            "overflow_x": null,
            "grid_auto_flow": null,
            "grid_area": null,
            "grid_template_columns": null,
            "flex": null,
            "_model_name": "LayoutModel",
            "justify_items": null,
            "grid_row": null,
            "max_height": null,
            "align_content": null,
            "visibility": null,
            "align_self": null,
            "height": null,
            "min_height": null,
            "padding": null,
            "grid_auto_rows": null,
            "grid_gap": null,
            "max_width": null,
            "order": null,
            "_view_module_version": "1.2.0",
            "grid_template_areas": null,
            "object_position": null,
            "object_fit": null,
            "grid_auto_columns": null,
            "margin": null,
            "display": null,
            "left": null
          }
        },
        "4a6a966eb20b4fa399981dbeaf1b4612": {
          "model_module": "@jupyter-widgets/controls",
          "model_name": "HBoxModel",
          "model_module_version": "1.5.0",
          "state": {
            "_view_name": "HBoxView",
            "_dom_classes": [],
            "_model_name": "HBoxModel",
            "_view_module": "@jupyter-widgets/controls",
            "_model_module_version": "1.5.0",
            "_view_count": null,
            "_view_module_version": "1.5.0",
            "box_style": "",
            "layout": "IPY_MODEL_ca2e494acbdc403cbea4baba686d6b1f",
            "_model_module": "@jupyter-widgets/controls",
            "children": [
              "IPY_MODEL_72d599c015184b308fd3cd460c5e2650",
              "IPY_MODEL_d42e3b1a17e444e9b2ead1151cc74eb2",
              "IPY_MODEL_efcd5647d99d4785b01b7e2c97d6bcfc"
            ]
          }
        },
        "ca2e494acbdc403cbea4baba686d6b1f": {
          "model_module": "@jupyter-widgets/base",
          "model_name": "LayoutModel",
          "model_module_version": "1.2.0",
          "state": {
            "_view_name": "LayoutView",
            "grid_template_rows": null,
            "right": null,
            "justify_content": null,
            "_view_module": "@jupyter-widgets/base",
            "overflow": null,
            "_model_module_version": "1.2.0",
            "_view_count": null,
            "flex_flow": null,
            "width": null,
            "min_width": null,
            "border": null,
            "align_items": null,
            "bottom": null,
            "_model_module": "@jupyter-widgets/base",
            "top": null,
            "grid_column": null,
            "overflow_y": null,
            "overflow_x": null,
            "grid_auto_flow": null,
            "grid_area": null,
            "grid_template_columns": null,
            "flex": null,
            "_model_name": "LayoutModel",
            "justify_items": null,
            "grid_row": null,
            "max_height": null,
            "align_content": null,
            "visibility": null,
            "align_self": null,
            "height": null,
            "min_height": null,
            "padding": null,
            "grid_auto_rows": null,
            "grid_gap": null,
            "max_width": null,
            "order": null,
            "_view_module_version": "1.2.0",
            "grid_template_areas": null,
            "object_position": null,
            "object_fit": null,
            "grid_auto_columns": null,
            "margin": null,
            "display": null,
            "left": null
          }
        },
        "72d599c015184b308fd3cd460c5e2650": {
          "model_module": "@jupyter-widgets/controls",
          "model_name": "HTMLModel",
          "model_module_version": "1.5.0",
          "state": {
            "_view_name": "HTMLView",
            "style": "IPY_MODEL_bbad7e69b5bd4fd08ec13fbad92d99ec",
            "_dom_classes": [],
            "description": "",
            "_model_name": "HTMLModel",
            "placeholder": "​",
            "_view_module": "@jupyter-widgets/controls",
            "_model_module_version": "1.5.0",
            "value": "Downloading: 100%",
            "_view_count": null,
            "_view_module_version": "1.5.0",
            "description_tooltip": null,
            "_model_module": "@jupyter-widgets/controls",
            "layout": "IPY_MODEL_91b1115444a44a17be476c213385bc8d"
          }
        },
        "d42e3b1a17e444e9b2ead1151cc74eb2": {
          "model_module": "@jupyter-widgets/controls",
          "model_name": "FloatProgressModel",
          "model_module_version": "1.5.0",
          "state": {
            "_view_name": "ProgressView",
            "style": "IPY_MODEL_4e89ccf83f0948b893c8e2c7af7621d8",
            "_dom_classes": [],
            "description": "",
            "_model_name": "FloatProgressModel",
            "bar_style": "success",
            "max": 456318,
            "_view_module": "@jupyter-widgets/controls",
            "_model_module_version": "1.5.0",
            "value": 456318,
            "_view_count": null,
            "_view_module_version": "1.5.0",
            "orientation": "horizontal",
            "min": 0,
            "description_tooltip": null,
            "_model_module": "@jupyter-widgets/controls",
            "layout": "IPY_MODEL_4d449f59e7f1433aaa9f03f045f5cd00"
          }
        },
        "efcd5647d99d4785b01b7e2c97d6bcfc": {
          "model_module": "@jupyter-widgets/controls",
          "model_name": "HTMLModel",
          "model_module_version": "1.5.0",
          "state": {
            "_view_name": "HTMLView",
            "style": "IPY_MODEL_dd92af1e64504b2bbde575deecf2f8a2",
            "_dom_classes": [],
            "description": "",
            "_model_name": "HTMLModel",
            "placeholder": "​",
            "_view_module": "@jupyter-widgets/controls",
            "_model_module_version": "1.5.0",
            "value": " 446k/446k [00:00&lt;00:00, 653kB/s]",
            "_view_count": null,
            "_view_module_version": "1.5.0",
            "description_tooltip": null,
            "_model_module": "@jupyter-widgets/controls",
            "layout": "IPY_MODEL_f53806ba1e0f46cdb655af1480ae2117"
          }
        },
        "bbad7e69b5bd4fd08ec13fbad92d99ec": {
          "model_module": "@jupyter-widgets/controls",
          "model_name": "DescriptionStyleModel",
          "model_module_version": "1.5.0",
          "state": {
            "_view_name": "StyleView",
            "_model_name": "DescriptionStyleModel",
            "description_width": "",
            "_view_module": "@jupyter-widgets/base",
            "_model_module_version": "1.5.0",
            "_view_count": null,
            "_view_module_version": "1.2.0",
            "_model_module": "@jupyter-widgets/controls"
          }
        },
        "91b1115444a44a17be476c213385bc8d": {
          "model_module": "@jupyter-widgets/base",
          "model_name": "LayoutModel",
          "model_module_version": "1.2.0",
          "state": {
            "_view_name": "LayoutView",
            "grid_template_rows": null,
            "right": null,
            "justify_content": null,
            "_view_module": "@jupyter-widgets/base",
            "overflow": null,
            "_model_module_version": "1.2.0",
            "_view_count": null,
            "flex_flow": null,
            "width": null,
            "min_width": null,
            "border": null,
            "align_items": null,
            "bottom": null,
            "_model_module": "@jupyter-widgets/base",
            "top": null,
            "grid_column": null,
            "overflow_y": null,
            "overflow_x": null,
            "grid_auto_flow": null,
            "grid_area": null,
            "grid_template_columns": null,
            "flex": null,
            "_model_name": "LayoutModel",
            "justify_items": null,
            "grid_row": null,
            "max_height": null,
            "align_content": null,
            "visibility": null,
            "align_self": null,
            "height": null,
            "min_height": null,
            "padding": null,
            "grid_auto_rows": null,
            "grid_gap": null,
            "max_width": null,
            "order": null,
            "_view_module_version": "1.2.0",
            "grid_template_areas": null,
            "object_position": null,
            "object_fit": null,
            "grid_auto_columns": null,
            "margin": null,
            "display": null,
            "left": null
          }
        },
        "4e89ccf83f0948b893c8e2c7af7621d8": {
          "model_module": "@jupyter-widgets/controls",
          "model_name": "ProgressStyleModel",
          "model_module_version": "1.5.0",
          "state": {
            "_view_name": "StyleView",
            "_model_name": "ProgressStyleModel",
            "description_width": "",
            "_view_module": "@jupyter-widgets/base",
            "_model_module_version": "1.5.0",
            "_view_count": null,
            "_view_module_version": "1.2.0",
            "bar_color": null,
            "_model_module": "@jupyter-widgets/controls"
          }
        },
        "4d449f59e7f1433aaa9f03f045f5cd00": {
          "model_module": "@jupyter-widgets/base",
          "model_name": "LayoutModel",
          "model_module_version": "1.2.0",
          "state": {
            "_view_name": "LayoutView",
            "grid_template_rows": null,
            "right": null,
            "justify_content": null,
            "_view_module": "@jupyter-widgets/base",
            "overflow": null,
            "_model_module_version": "1.2.0",
            "_view_count": null,
            "flex_flow": null,
            "width": null,
            "min_width": null,
            "border": null,
            "align_items": null,
            "bottom": null,
            "_model_module": "@jupyter-widgets/base",
            "top": null,
            "grid_column": null,
            "overflow_y": null,
            "overflow_x": null,
            "grid_auto_flow": null,
            "grid_area": null,
            "grid_template_columns": null,
            "flex": null,
            "_model_name": "LayoutModel",
            "justify_items": null,
            "grid_row": null,
            "max_height": null,
            "align_content": null,
            "visibility": null,
            "align_self": null,
            "height": null,
            "min_height": null,
            "padding": null,
            "grid_auto_rows": null,
            "grid_gap": null,
            "max_width": null,
            "order": null,
            "_view_module_version": "1.2.0",
            "grid_template_areas": null,
            "object_position": null,
            "object_fit": null,
            "grid_auto_columns": null,
            "margin": null,
            "display": null,
            "left": null
          }
        },
        "dd92af1e64504b2bbde575deecf2f8a2": {
          "model_module": "@jupyter-widgets/controls",
          "model_name": "DescriptionStyleModel",
          "model_module_version": "1.5.0",
          "state": {
            "_view_name": "StyleView",
            "_model_name": "DescriptionStyleModel",
            "description_width": "",
            "_view_module": "@jupyter-widgets/base",
            "_model_module_version": "1.5.0",
            "_view_count": null,
            "_view_module_version": "1.2.0",
            "_model_module": "@jupyter-widgets/controls"
          }
        },
        "f53806ba1e0f46cdb655af1480ae2117": {
          "model_module": "@jupyter-widgets/base",
          "model_name": "LayoutModel",
          "model_module_version": "1.2.0",
          "state": {
            "_view_name": "LayoutView",
            "grid_template_rows": null,
            "right": null,
            "justify_content": null,
            "_view_module": "@jupyter-widgets/base",
            "overflow": null,
            "_model_module_version": "1.2.0",
            "_view_count": null,
            "flex_flow": null,
            "width": null,
            "min_width": null,
            "border": null,
            "align_items": null,
            "bottom": null,
            "_model_module": "@jupyter-widgets/base",
            "top": null,
            "grid_column": null,
            "overflow_y": null,
            "overflow_x": null,
            "grid_auto_flow": null,
            "grid_area": null,
            "grid_template_columns": null,
            "flex": null,
            "_model_name": "LayoutModel",
            "justify_items": null,
            "grid_row": null,
            "max_height": null,
            "align_content": null,
            "visibility": null,
            "align_self": null,
            "height": null,
            "min_height": null,
            "padding": null,
            "grid_auto_rows": null,
            "grid_gap": null,
            "max_width": null,
            "order": null,
            "_view_module_version": "1.2.0",
            "grid_template_areas": null,
            "object_position": null,
            "object_fit": null,
            "grid_auto_columns": null,
            "margin": null,
            "display": null,
            "left": null
          }
        },
        "c3936b1f29ea489ba8d403335891f6a5": {
          "model_module": "@jupyter-widgets/controls",
          "model_name": "HBoxModel",
          "model_module_version": "1.5.0",
          "state": {
            "_view_name": "HBoxView",
            "_dom_classes": [],
            "_model_name": "HBoxModel",
            "_view_module": "@jupyter-widgets/controls",
            "_model_module_version": "1.5.0",
            "_view_count": null,
            "_view_module_version": "1.5.0",
            "box_style": "",
            "layout": "IPY_MODEL_976594142f814fb782c93eb558655294",
            "_model_module": "@jupyter-widgets/controls",
            "children": [
              "IPY_MODEL_2de1a010c77c435aaa7d2e11461a4ad1",
              "IPY_MODEL_328ac13eb2294e388d9d2990d4e919fb",
              "IPY_MODEL_17174d0fa76947fc8b0b659f47af33a0"
            ]
          }
        },
        "976594142f814fb782c93eb558655294": {
          "model_module": "@jupyter-widgets/base",
          "model_name": "LayoutModel",
          "model_module_version": "1.2.0",
          "state": {
            "_view_name": "LayoutView",
            "grid_template_rows": null,
            "right": null,
            "justify_content": null,
            "_view_module": "@jupyter-widgets/base",
            "overflow": null,
            "_model_module_version": "1.2.0",
            "_view_count": null,
            "flex_flow": null,
            "width": null,
            "min_width": null,
            "border": null,
            "align_items": null,
            "bottom": null,
            "_model_module": "@jupyter-widgets/base",
            "top": null,
            "grid_column": null,
            "overflow_y": null,
            "overflow_x": null,
            "grid_auto_flow": null,
            "grid_area": null,
            "grid_template_columns": null,
            "flex": null,
            "_model_name": "LayoutModel",
            "justify_items": null,
            "grid_row": null,
            "max_height": null,
            "align_content": null,
            "visibility": null,
            "align_self": null,
            "height": null,
            "min_height": null,
            "padding": null,
            "grid_auto_rows": null,
            "grid_gap": null,
            "max_width": null,
            "order": null,
            "_view_module_version": "1.2.0",
            "grid_template_areas": null,
            "object_position": null,
            "object_fit": null,
            "grid_auto_columns": null,
            "margin": null,
            "display": null,
            "left": null
          }
        },
        "2de1a010c77c435aaa7d2e11461a4ad1": {
          "model_module": "@jupyter-widgets/controls",
          "model_name": "HTMLModel",
          "model_module_version": "1.5.0",
          "state": {
            "_view_name": "HTMLView",
            "style": "IPY_MODEL_c76810efa81b49f58309980f4aa52bc7",
            "_dom_classes": [],
            "description": "",
            "_model_name": "HTMLModel",
            "placeholder": "​",
            "_view_module": "@jupyter-widgets/controls",
            "_model_module_version": "1.5.0",
            "value": "Downloading: 100%",
            "_view_count": null,
            "_view_module_version": "1.5.0",
            "description_tooltip": null,
            "_model_module": "@jupyter-widgets/controls",
            "layout": "IPY_MODEL_59256c5e3eca43539c0ac18646dfe1f1"
          }
        },
        "328ac13eb2294e388d9d2990d4e919fb": {
          "model_module": "@jupyter-widgets/controls",
          "model_name": "FloatProgressModel",
          "model_module_version": "1.5.0",
          "state": {
            "_view_name": "ProgressView",
            "style": "IPY_MODEL_fed2531309c74e88a05e5e772d764569",
            "_dom_classes": [],
            "description": "",
            "_model_name": "FloatProgressModel",
            "bar_style": "success",
            "max": 1355863,
            "_view_module": "@jupyter-widgets/controls",
            "_model_module_version": "1.5.0",
            "value": 1355863,
            "_view_count": null,
            "_view_module_version": "1.5.0",
            "orientation": "horizontal",
            "min": 0,
            "description_tooltip": null,
            "_model_module": "@jupyter-widgets/controls",
            "layout": "IPY_MODEL_ee9a2c1ffbb848a5b88bcb0a87a51124"
          }
        },
        "17174d0fa76947fc8b0b659f47af33a0": {
          "model_module": "@jupyter-widgets/controls",
          "model_name": "HTMLModel",
          "model_module_version": "1.5.0",
          "state": {
            "_view_name": "HTMLView",
            "style": "IPY_MODEL_06feed7686e04d159e1b220b4b56cbc4",
            "_dom_classes": [],
            "description": "",
            "_model_name": "HTMLModel",
            "placeholder": "​",
            "_view_module": "@jupyter-widgets/controls",
            "_model_module_version": "1.5.0",
            "value": " 1.29M/1.29M [00:01&lt;00:00, 1.67MB/s]",
            "_view_count": null,
            "_view_module_version": "1.5.0",
            "description_tooltip": null,
            "_model_module": "@jupyter-widgets/controls",
            "layout": "IPY_MODEL_716bbbdebe1d4d879288fb05a9b5166a"
          }
        },
        "c76810efa81b49f58309980f4aa52bc7": {
          "model_module": "@jupyter-widgets/controls",
          "model_name": "DescriptionStyleModel",
          "model_module_version": "1.5.0",
          "state": {
            "_view_name": "StyleView",
            "_model_name": "DescriptionStyleModel",
            "description_width": "",
            "_view_module": "@jupyter-widgets/base",
            "_model_module_version": "1.5.0",
            "_view_count": null,
            "_view_module_version": "1.2.0",
            "_model_module": "@jupyter-widgets/controls"
          }
        },
        "59256c5e3eca43539c0ac18646dfe1f1": {
          "model_module": "@jupyter-widgets/base",
          "model_name": "LayoutModel",
          "model_module_version": "1.2.0",
          "state": {
            "_view_name": "LayoutView",
            "grid_template_rows": null,
            "right": null,
            "justify_content": null,
            "_view_module": "@jupyter-widgets/base",
            "overflow": null,
            "_model_module_version": "1.2.0",
            "_view_count": null,
            "flex_flow": null,
            "width": null,
            "min_width": null,
            "border": null,
            "align_items": null,
            "bottom": null,
            "_model_module": "@jupyter-widgets/base",
            "top": null,
            "grid_column": null,
            "overflow_y": null,
            "overflow_x": null,
            "grid_auto_flow": null,
            "grid_area": null,
            "grid_template_columns": null,
            "flex": null,
            "_model_name": "LayoutModel",
            "justify_items": null,
            "grid_row": null,
            "max_height": null,
            "align_content": null,
            "visibility": null,
            "align_self": null,
            "height": null,
            "min_height": null,
            "padding": null,
            "grid_auto_rows": null,
            "grid_gap": null,
            "max_width": null,
            "order": null,
            "_view_module_version": "1.2.0",
            "grid_template_areas": null,
            "object_position": null,
            "object_fit": null,
            "grid_auto_columns": null,
            "margin": null,
            "display": null,
            "left": null
          }
        },
        "fed2531309c74e88a05e5e772d764569": {
          "model_module": "@jupyter-widgets/controls",
          "model_name": "ProgressStyleModel",
          "model_module_version": "1.5.0",
          "state": {
            "_view_name": "StyleView",
            "_model_name": "ProgressStyleModel",
            "description_width": "",
            "_view_module": "@jupyter-widgets/base",
            "_model_module_version": "1.5.0",
            "_view_count": null,
            "_view_module_version": "1.2.0",
            "bar_color": null,
            "_model_module": "@jupyter-widgets/controls"
          }
        },
        "ee9a2c1ffbb848a5b88bcb0a87a51124": {
          "model_module": "@jupyter-widgets/base",
          "model_name": "LayoutModel",
          "model_module_version": "1.2.0",
          "state": {
            "_view_name": "LayoutView",
            "grid_template_rows": null,
            "right": null,
            "justify_content": null,
            "_view_module": "@jupyter-widgets/base",
            "overflow": null,
            "_model_module_version": "1.2.0",
            "_view_count": null,
            "flex_flow": null,
            "width": null,
            "min_width": null,
            "border": null,
            "align_items": null,
            "bottom": null,
            "_model_module": "@jupyter-widgets/base",
            "top": null,
            "grid_column": null,
            "overflow_y": null,
            "overflow_x": null,
            "grid_auto_flow": null,
            "grid_area": null,
            "grid_template_columns": null,
            "flex": null,
            "_model_name": "LayoutModel",
            "justify_items": null,
            "grid_row": null,
            "max_height": null,
            "align_content": null,
            "visibility": null,
            "align_self": null,
            "height": null,
            "min_height": null,
            "padding": null,
            "grid_auto_rows": null,
            "grid_gap": null,
            "max_width": null,
            "order": null,
            "_view_module_version": "1.2.0",
            "grid_template_areas": null,
            "object_position": null,
            "object_fit": null,
            "grid_auto_columns": null,
            "margin": null,
            "display": null,
            "left": null
          }
        },
        "06feed7686e04d159e1b220b4b56cbc4": {
          "model_module": "@jupyter-widgets/controls",
          "model_name": "DescriptionStyleModel",
          "model_module_version": "1.5.0",
          "state": {
            "_view_name": "StyleView",
            "_model_name": "DescriptionStyleModel",
            "description_width": "",
            "_view_module": "@jupyter-widgets/base",
            "_model_module_version": "1.5.0",
            "_view_count": null,
            "_view_module_version": "1.2.0",
            "_model_module": "@jupyter-widgets/controls"
          }
        },
        "716bbbdebe1d4d879288fb05a9b5166a": {
          "model_module": "@jupyter-widgets/base",
          "model_name": "LayoutModel",
          "model_module_version": "1.2.0",
          "state": {
            "_view_name": "LayoutView",
            "grid_template_rows": null,
            "right": null,
            "justify_content": null,
            "_view_module": "@jupyter-widgets/base",
            "overflow": null,
            "_model_module_version": "1.2.0",
            "_view_count": null,
            "flex_flow": null,
            "width": null,
            "min_width": null,
            "border": null,
            "align_items": null,
            "bottom": null,
            "_model_module": "@jupyter-widgets/base",
            "top": null,
            "grid_column": null,
            "overflow_y": null,
            "overflow_x": null,
            "grid_auto_flow": null,
            "grid_area": null,
            "grid_template_columns": null,
            "flex": null,
            "_model_name": "LayoutModel",
            "justify_items": null,
            "grid_row": null,
            "max_height": null,
            "align_content": null,
            "visibility": null,
            "align_self": null,
            "height": null,
            "min_height": null,
            "padding": null,
            "grid_auto_rows": null,
            "grid_gap": null,
            "max_width": null,
            "order": null,
            "_view_module_version": "1.2.0",
            "grid_template_areas": null,
            "object_position": null,
            "object_fit": null,
            "grid_auto_columns": null,
            "margin": null,
            "display": null,
            "left": null
          }
        }
      }
    }
  },
  "cells": [
    {
      "cell_type": "code",
      "metadata": {
        "colab": {
          "base_uri": "https://localhost:8080/"
        },
        "id": "Sz1jeFHS-bfH",
        "outputId": "9062169e-df50-4c88-ef8d-4e74621a42de"
      },
      "source": [
        "!pip install transformers"
      ],
      "execution_count": null,
      "outputs": [
        {
          "output_type": "stream",
          "name": "stdout",
          "text": [
            "Collecting transformers\n",
            "  Downloading transformers-4.15.0-py3-none-any.whl (3.4 MB)\n",
            "\u001b[K     |████████████████████████████████| 3.4 MB 4.1 MB/s \n",
            "\u001b[?25hRequirement already satisfied: requests in /usr/local/lib/python3.7/dist-packages (from transformers) (2.23.0)\n",
            "Collecting tokenizers<0.11,>=0.10.1\n",
            "  Downloading tokenizers-0.10.3-cp37-cp37m-manylinux_2_5_x86_64.manylinux1_x86_64.manylinux_2_12_x86_64.manylinux2010_x86_64.whl (3.3 MB)\n",
            "\u001b[K     |████████████████████████████████| 3.3 MB 35.9 MB/s \n",
            "\u001b[?25hCollecting huggingface-hub<1.0,>=0.1.0\n",
            "  Downloading huggingface_hub-0.2.1-py3-none-any.whl (61 kB)\n",
            "\u001b[K     |████████████████████████████████| 61 kB 479 kB/s \n",
            "\u001b[?25hRequirement already satisfied: filelock in /usr/local/lib/python3.7/dist-packages (from transformers) (3.4.0)\n",
            "Collecting sacremoses\n",
            "  Downloading sacremoses-0.0.46-py3-none-any.whl (895 kB)\n",
            "\u001b[K     |████████████████████████████████| 895 kB 42.9 MB/s \n",
            "\u001b[?25hRequirement already satisfied: numpy>=1.17 in /usr/local/lib/python3.7/dist-packages (from transformers) (1.19.5)\n",
            "Collecting pyyaml>=5.1\n",
            "  Downloading PyYAML-6.0-cp37-cp37m-manylinux_2_5_x86_64.manylinux1_x86_64.manylinux_2_12_x86_64.manylinux2010_x86_64.whl (596 kB)\n",
            "\u001b[K     |████████████████████████████████| 596 kB 45.9 MB/s \n",
            "\u001b[?25hRequirement already satisfied: importlib-metadata in /usr/local/lib/python3.7/dist-packages (from transformers) (4.8.2)\n",
            "Requirement already satisfied: regex!=2019.12.17 in /usr/local/lib/python3.7/dist-packages (from transformers) (2019.12.20)\n",
            "Requirement already satisfied: packaging>=20.0 in /usr/local/lib/python3.7/dist-packages (from transformers) (21.3)\n",
            "Requirement already satisfied: tqdm>=4.27 in /usr/local/lib/python3.7/dist-packages (from transformers) (4.62.3)\n",
            "Requirement already satisfied: typing-extensions>=3.7.4.3 in /usr/local/lib/python3.7/dist-packages (from huggingface-hub<1.0,>=0.1.0->transformers) (3.10.0.2)\n",
            "Requirement already satisfied: pyparsing!=3.0.5,>=2.0.2 in /usr/local/lib/python3.7/dist-packages (from packaging>=20.0->transformers) (3.0.6)\n",
            "Requirement already satisfied: zipp>=0.5 in /usr/local/lib/python3.7/dist-packages (from importlib-metadata->transformers) (3.6.0)\n",
            "Requirement already satisfied: certifi>=2017.4.17 in /usr/local/lib/python3.7/dist-packages (from requests->transformers) (2021.10.8)\n",
            "Requirement already satisfied: idna<3,>=2.5 in /usr/local/lib/python3.7/dist-packages (from requests->transformers) (2.10)\n",
            "Requirement already satisfied: chardet<4,>=3.0.2 in /usr/local/lib/python3.7/dist-packages (from requests->transformers) (3.0.4)\n",
            "Requirement already satisfied: urllib3!=1.25.0,!=1.25.1,<1.26,>=1.21.1 in /usr/local/lib/python3.7/dist-packages (from requests->transformers) (1.24.3)\n",
            "Requirement already satisfied: joblib in /usr/local/lib/python3.7/dist-packages (from sacremoses->transformers) (1.1.0)\n",
            "Requirement already satisfied: six in /usr/local/lib/python3.7/dist-packages (from sacremoses->transformers) (1.15.0)\n",
            "Requirement already satisfied: click in /usr/local/lib/python3.7/dist-packages (from sacremoses->transformers) (7.1.2)\n",
            "Installing collected packages: pyyaml, tokenizers, sacremoses, huggingface-hub, transformers\n",
            "  Attempting uninstall: pyyaml\n",
            "    Found existing installation: PyYAML 3.13\n",
            "    Uninstalling PyYAML-3.13:\n",
            "      Successfully uninstalled PyYAML-3.13\n",
            "Successfully installed huggingface-hub-0.2.1 pyyaml-6.0 sacremoses-0.0.46 tokenizers-0.10.3 transformers-4.15.0\n"
          ]
        }
      ]
    },
    {
      "cell_type": "code",
      "metadata": {
        "id": "yFf9P8n9-tRy"
      },
      "source": [
        "from transformers import BartTokenizer, BartForConditionalGeneration, BartConfig\n",
        "\n",
        "BART_PATH = 'facebook/bart-large-cnn'"
      ],
      "execution_count": null,
      "outputs": []
    },
    {
      "cell_type": "code",
      "metadata": {
        "colab": {
          "base_uri": "https://localhost:8080/",
          "height": 177,
          "referenced_widgets": [
            "589a02f707354d7aaad9157f6a939873",
            "f0f2b21dd98249c18d1586f9f16230ff",
            "97028569c9ee4642978059de3757f886",
            "dc2aa5a138af417c9cb984ef618cd386",
            "795ad5cbcfcc4d97a571851b0c78a923",
            "4fa769426b6a460cb5bca9175cac9e7f",
            "84c25e08fb614e1dbf1463140b848a0f",
            "cbdaf312aa1943f48464f9d12a12dff0",
            "b1a034a3a3e74005b9c5bd35b05580fb",
            "aafc226e8d4841af93532190313fa3ff",
            "0aba11b5cd9f45cd869adc6db3696d9d",
            "cd3951584cc6401289ae30b6d64fc2be",
            "10587d36ec2e4fabb93f4c7801e1b16b",
            "43961ac9be604c858be88ee4ed47d6bd",
            "11624aabdfa34a039539c36e90c4ef82",
            "afdd9e1f105942f385290c645763c643",
            "867ea5ac3f764feaa3e12850dddd8ac8",
            "d09d731180694b6a9469b70f417bf942",
            "cd2febb9635446ec8c01a118d0c3cdb6",
            "88521b58c8064093a4aed4193e7260e0",
            "179df1aa09ad4fdc93e78c2443350f75",
            "5f9fa43026c54e2993b22d9e42916c04",
            "dd455e88db414411b7416076f60dbccb",
            "59c57604c4c44d7a9c39ab7a2972251a",
            "d7d7ebdced974af795678141ec85ba6f",
            "3304bd81f8a6421d89728062d5e0b6d8",
            "45bc722ec256475db0ca179b9a2fae30",
            "06c92f122577483b92edc9ff2f2e337d",
            "6974f6fbce7e4a888eab820e27018914",
            "9d2d49e160d6405bbabfea8785388de6",
            "92283bc0284f4124a1bc1eee8884eb25",
            "74ca7c2be0634a9dba645855490f7870",
            "4e30d4dc13fe4d628ef6fd71f3985f42",
            "4a6a966eb20b4fa399981dbeaf1b4612",
            "ca2e494acbdc403cbea4baba686d6b1f",
            "72d599c015184b308fd3cd460c5e2650",
            "d42e3b1a17e444e9b2ead1151cc74eb2",
            "efcd5647d99d4785b01b7e2c97d6bcfc",
            "bbad7e69b5bd4fd08ec13fbad92d99ec",
            "91b1115444a44a17be476c213385bc8d",
            "4e89ccf83f0948b893c8e2c7af7621d8",
            "4d449f59e7f1433aaa9f03f045f5cd00",
            "dd92af1e64504b2bbde575deecf2f8a2",
            "f53806ba1e0f46cdb655af1480ae2117",
            "c3936b1f29ea489ba8d403335891f6a5",
            "976594142f814fb782c93eb558655294",
            "2de1a010c77c435aaa7d2e11461a4ad1",
            "328ac13eb2294e388d9d2990d4e919fb",
            "17174d0fa76947fc8b0b659f47af33a0",
            "c76810efa81b49f58309980f4aa52bc7",
            "59256c5e3eca43539c0ac18646dfe1f1",
            "fed2531309c74e88a05e5e772d764569",
            "ee9a2c1ffbb848a5b88bcb0a87a51124",
            "06feed7686e04d159e1b220b4b56cbc4",
            "716bbbdebe1d4d879288fb05a9b5166a"
          ]
        },
        "id": "y44P7-YD-4aN",
        "outputId": "e36b366a-93f0-4b8e-9e04-275982f1b8bd"
      },
      "source": [
        "bart_model = BartForConditionalGeneration.from_pretrained(BART_PATH, output_past=True)\n",
        "bart_tokenizer = BartTokenizer.from_pretrained(BART_PATH, output_past=True)"
      ],
      "execution_count": null,
      "outputs": [
        {
          "output_type": "display_data",
          "data": {
            "application/vnd.jupyter.widget-view+json": {
              "model_id": "589a02f707354d7aaad9157f6a939873",
              "version_minor": 0,
              "version_major": 2
            },
            "text/plain": [
              "Downloading:   0%|          | 0.00/1.55k [00:00<?, ?B/s]"
            ]
          },
          "metadata": {}
        },
        {
          "output_type": "display_data",
          "data": {
            "application/vnd.jupyter.widget-view+json": {
              "model_id": "cd3951584cc6401289ae30b6d64fc2be",
              "version_minor": 0,
              "version_major": 2
            },
            "text/plain": [
              "Downloading:   0%|          | 0.00/1.51G [00:00<?, ?B/s]"
            ]
          },
          "metadata": {}
        },
        {
          "output_type": "display_data",
          "data": {
            "application/vnd.jupyter.widget-view+json": {
              "model_id": "dd455e88db414411b7416076f60dbccb",
              "version_minor": 0,
              "version_major": 2
            },
            "text/plain": [
              "Downloading:   0%|          | 0.00/878k [00:00<?, ?B/s]"
            ]
          },
          "metadata": {}
        },
        {
          "output_type": "display_data",
          "data": {
            "application/vnd.jupyter.widget-view+json": {
              "model_id": "4a6a966eb20b4fa399981dbeaf1b4612",
              "version_minor": 0,
              "version_major": 2
            },
            "text/plain": [
              "Downloading:   0%|          | 0.00/446k [00:00<?, ?B/s]"
            ]
          },
          "metadata": {}
        },
        {
          "output_type": "display_data",
          "data": {
            "application/vnd.jupyter.widget-view+json": {
              "model_id": "c3936b1f29ea489ba8d403335891f6a5",
              "version_minor": 0,
              "version_major": 2
            },
            "text/plain": [
              "Downloading:   0%|          | 0.00/1.29M [00:00<?, ?B/s]"
            ]
          },
          "metadata": {}
        }
      ]
    },
    {
      "cell_type": "code",
      "source": [
        "DOCUMENT = ''' Aarti finds Sattu's off-traditional views charming and had put a only thing in front of him that after marriage, her in-laws will allow her for job, while Sattu is mesmerized by Aarti's beauty and agrees. Sattu and Aarti decide to move forward and both of them fall in love with each other. On the night of marriage, Aarti comes to know that she has cleared the PCS exam. Aabha Shukla (Nayani Dixit), her sister, warns her that if she gets married, her in-laws won't let her pursue the career dreams that she has. On Aabha's and maternal uncle Jogi Sinha's (Manoj Pahwa) provocation, Aarti decides to run-away from her house without informing Sattu or his family. Sattu is shocked to know about the incident and is left heartbroken. During the end, a fight erupts as Jogi forces Sattu's family to return dowry money. Sattu agrees to pay back which leaves his family to undergo hard times with loss of face in the society, and his mother Shanti Mishra (Alka Amin) being forced selling all her jewelry to repay the money to Aarti's family. She even helps her best friend Neelam Gupta to get a job in the same office. Aarti is accused of taking a bribe and suspended till her case is resolved. During the investigation, Aarti discovers to her horror that the officer in charge of her case is Satyendra, who has now become an IAS officer. She is shocked to find out the changed attitude and lack of sympathy he has for her. Throughout the investigation process, the evidence Satyendra finds leans towards Aarti taking a bribe. Satyendra gives her an option and asks for the bribe, though Aarti confirms she doesn't have it. Aarti goes to Kukreja Gupta, a builder and Neelam's husband, to ask him for the bribe money, but he tells her that he did not take anything and that everyone already knows she does take bribes. It is revealed by Satyendra's explanation of the video that Kukreja, Neelam, and a broker Rakesh were friends and that they've been selling unused government land to businesses under Aarti's name. They were able to because of Neelam misusing Aarti's trust and by getting papers signed in her ignorance. Aarti is shocked to find out that Sattu saved her life by sending her to prison and also saved her from jail time by revealing the truth. Aarti knows Sattu still loves her and later tries her best to make amends to marry him, but he refuses to marry her. On the day of the wedding, Sattu realizes his love for Aarti and gate-crashes into her wedding. The film ends with Aarti & Sattu's marriage and a romantic song. '''"
      ],
      "metadata": {
        "id": "m-9m63VZjWLg"
      },
      "execution_count": null,
      "outputs": []
    },
    {
      "cell_type": "code",
      "source": [
        "start = '<START>'\n",
        "end = '<END>'"
      ],
      "metadata": {
        "id": "E1BOjaLmhlTx"
      },
      "execution_count": null,
      "outputs": []
    },
    {
      "cell_type": "code",
      "source": [
        "DOCUMENT = start + DOCUMENT +end"
      ],
      "metadata": {
        "id": "Elb_aH66iIUH"
      },
      "execution_count": null,
      "outputs": []
    },
    {
      "cell_type": "code",
      "source": [
        "DOCUMENT"
      ],
      "metadata": {
        "colab": {
          "base_uri": "https://localhost:8080/",
          "height": 139
        },
        "id": "8UyB7ZJZiOM6",
        "outputId": "2c6c7cc3-9bbd-4f7f-eff5-f11ec40b7cf0"
      },
      "execution_count": null,
      "outputs": [
        {
          "output_type": "execute_result",
          "data": {
            "application/vnd.google.colaboratory.intrinsic+json": {
              "type": "string"
            },
            "text/plain": [
              "\"<START> Aarti finds Sattu's off-traditional views charming and had put a only thing in front of him that after marriage, her in-laws will allow her for job, while Sattu is mesmerized by Aarti's beauty and agrees. Sattu and Aarti decide to move forward and both of them fall in love with each other. On the night of marriage, Aarti comes to know that she has cleared the PCS exam. Aabha Shukla (Nayani Dixit), her sister, warns her that if she gets married, her in-laws won't let her pursue the career dreams that she has. On Aabha's and maternal uncle Jogi Sinha's (Manoj Pahwa) provocation, Aarti decides to run-away from her house without informing Sattu or his family. Sattu is shocked to know about the incident and is left heartbroken. During the end, a fight erupts as Jogi forces Sattu's family to return dowry money. Sattu agrees to pay back which leaves his family to undergo hard times with loss of face in the society, and his mother Shanti Mishra (Alka Amin) being forced selling all her jewelry to repay the money to Aarti's family. She even helps her best friend Neelam Gupta to get a job in the same office. Aarti is accused of taking a bribe and suspended till her case is resolved. During the investigation, Aarti discovers to her horror that the officer in charge of her case is Satyendra, who has now become an IAS officer. She is shocked to find out the changed attitude and lack of sympathy he has for her. Throughout the investigation process, the evidence Satyendra finds leans towards Aarti taking a bribe. Satyendra gives her an option and asks for the bribe, though Aarti confirms she doesn't have it. Aarti goes to Kukreja Gupta, a builder and Neelam's husband, to ask him for the bribe money, but he tells her that he did not take anything and that everyone already knows she does take bribes. It is revealed by Satyendra's explanation of the video that Kukreja, Neelam, and a broker Rakesh were friends and that they've been selling unused government land to businesses under Aarti's name. They were able to because of Neelam misusing Aarti's trust and by getting papers signed in her ignorance. Aarti is shocked to find out that Sattu saved her life by sending her to prison and also saved her from jail time by revealing the truth. Aarti knows Sattu still loves her and later tries her best to make amends to marry him, but he refuses to marry her. On the day of the wedding, Sattu realizes his love for Aarti and gate-crashes into her wedding. The film ends with Aarti & Sattu's marriage and a romantic song. <END>\""
            ]
          },
          "metadata": {},
          "execution_count": 66
        }
      ]
    },
    {
      "cell_type": "code",
      "metadata": {
        "id": "5abRnund_KvA"
      },
      "source": [
        "import re\n",
        "\n",
        "DOCUMENT = re.sub(r'\\n|\\r', ' ', DOCUMENT)\n",
        "DOCUMENT = re.sub(r' +', ' ', DOCUMENT)\n",
        "DOCUMENT = DOCUMENT.strip()\n"
      ],
      "execution_count": null,
      "outputs": []
    },
    {
      "cell_type": "code",
      "source": [
        "DOCUMENT"
      ],
      "metadata": {
        "colab": {
          "base_uri": "https://localhost:8080/",
          "height": 139
        },
        "id": "CGECvLvqZ9gp",
        "outputId": "e75c93d1-2e43-4179-ef81-da7ee855a227"
      },
      "execution_count": null,
      "outputs": [
        {
          "output_type": "execute_result",
          "data": {
            "application/vnd.google.colaboratory.intrinsic+json": {
              "type": "string"
            },
            "text/plain": [
              "\"<START> Aarti finds Sattu's off-traditional views charming and had put a only thing in front of him that after marriage, her in-laws will allow her for job, while Sattu is mesmerized by Aarti's beauty and agrees. Sattu and Aarti decide to move forward and both of them fall in love with each other. On the night of marriage, Aarti comes to know that she has cleared the PCS exam. Aabha Shukla (Nayani Dixit), her sister, warns her that if she gets married, her in-laws won't let her pursue the career dreams that she has. On Aabha's and maternal uncle Jogi Sinha's (Manoj Pahwa) provocation, Aarti decides to run-away from her house without informing Sattu or his family. Sattu is shocked to know about the incident and is left heartbroken. During the end, a fight erupts as Jogi forces Sattu's family to return dowry money. Sattu agrees to pay back which leaves his family to undergo hard times with loss of face in the society, and his mother Shanti Mishra (Alka Amin) being forced selling all her jewelry to repay the money to Aarti's family. She even helps her best friend Neelam Gupta to get a job in the same office. Aarti is accused of taking a bribe and suspended till her case is resolved. During the investigation, Aarti discovers to her horror that the officer in charge of her case is Satyendra, who has now become an IAS officer. She is shocked to find out the changed attitude and lack of sympathy he has for her. Throughout the investigation process, the evidence Satyendra finds leans towards Aarti taking a bribe. Satyendra gives her an option and asks for the bribe, though Aarti confirms she doesn't have it. Aarti goes to Kukreja Gupta, a builder and Neelam's husband, to ask him for the bribe money, but he tells her that he did not take anything and that everyone already knows she does take bribes. It is revealed by Satyendra's explanation of the video that Kukreja, Neelam, and a broker Rakesh were friends and that they've been selling unused government land to businesses under Aarti's name. They were able to because of Neelam misusing Aarti's trust and by getting papers signed in her ignorance. Aarti is shocked to find out that Sattu saved her life by sending her to prison and also saved her from jail time by revealing the truth. Aarti knows Sattu still loves her and later tries her best to make amends to marry him, but he refuses to marry her. On the day of the wedding, Sattu realizes his love for Aarti and gate-crashes into her wedding. The film ends with Aarti & Sattu's marriage and a romantic song. <END>\""
            ]
          },
          "metadata": {},
          "execution_count": 68
        }
      ]
    },
    {
      "cell_type": "code",
      "metadata": {
        "id": "Pq0ql_lMzIPc"
      },
      "source": [
        "def nest_sentences(document):\n",
        "  nested = []\n",
        "  sent = []\n",
        "  length = 0\n",
        "  token =  nltk.sent_tokenize(document)\n",
        "  for sentence in token:\n",
        "    length += len(sentence.split(' '))\n",
        "    if length < 256:\n",
        "      sent.append(sentence)\n",
        "    else:\n",
        "      nested.append(sent)\n",
        "      sent = []\n",
        "      length = 0\n",
        "  if sent:\n",
        "    nested.append(sent)\n",
        "  print(\"Nested: \", nested)\n",
        "  print(\"Nested Count: \", len(nested))\n",
        "  for i in nested:\n",
        "    print(\"Sentence count in each nested list: \", len(i))\n",
        "  return nested"
      ],
      "execution_count": null,
      "outputs": []
    },
    {
      "cell_type": "code",
      "metadata": {
        "colab": {
          "base_uri": "https://localhost:8080/"
        },
        "id": "WQ_Sj7Ur_Vqu",
        "outputId": "2ca42176-885a-4682-ad28-5df7008e88c0"
      },
      "source": [
        "import nltk\n",
        "nltk.download('punkt')\n",
        "nltk.download('stopwords')\n",
        "new = nest_sentences(DOCUMENT)"
      ],
      "execution_count": null,
      "outputs": [
        {
          "output_type": "stream",
          "name": "stdout",
          "text": [
            "[nltk_data] Downloading package punkt to /root/nltk_data...\n",
            "[nltk_data]   Package punkt is already up-to-date!\n",
            "[nltk_data] Downloading package stopwords to /root/nltk_data...\n",
            "[nltk_data]   Package stopwords is already up-to-date!\n",
            "Nested:  [[\"<START> Aarti finds Sattu's off-traditional views charming and had put a only thing in front of him that after marriage, her in-laws will allow her for job, while Sattu is mesmerized by Aarti's beauty and agrees.\", 'Sattu and Aarti decide to move forward and both of them fall in love with each other.', 'On the night of marriage, Aarti comes to know that she has cleared the PCS exam.', \"Aabha Shukla (Nayani Dixit), her sister, warns her that if she gets married, her in-laws won't let her pursue the career dreams that she has.\", \"On Aabha's and maternal uncle Jogi Sinha's (Manoj Pahwa) provocation, Aarti decides to run-away from her house without informing Sattu or his family.\", 'Sattu is shocked to know about the incident and is left heartbroken.', \"During the end, a fight erupts as Jogi forces Sattu's family to return dowry money.\", \"Sattu agrees to pay back which leaves his family to undergo hard times with loss of face in the society, and his mother Shanti Mishra (Alka Amin) being forced selling all her jewelry to repay the money to Aarti's family.\", 'She even helps her best friend Neelam Gupta to get a job in the same office.', 'Aarti is accused of taking a bribe and suspended till her case is resolved.', 'During the investigation, Aarti discovers to her horror that the officer in charge of her case is Satyendra, who has now become an IAS officer.'], ['Throughout the investigation process, the evidence Satyendra finds leans towards Aarti taking a bribe.', \"Satyendra gives her an option and asks for the bribe, though Aarti confirms she doesn't have it.\", \"Aarti goes to Kukreja Gupta, a builder and Neelam's husband, to ask him for the bribe money, but he tells her that he did not take anything and that everyone already knows she does take bribes.\", \"It is revealed by Satyendra's explanation of the video that Kukreja, Neelam, and a broker Rakesh were friends and that they've been selling unused government land to businesses under Aarti's name.\", \"They were able to because of Neelam misusing Aarti's trust and by getting papers signed in her ignorance.\", 'Aarti is shocked to find out that Sattu saved her life by sending her to prison and also saved her from jail time by revealing the truth.', 'Aarti knows Sattu still loves her and later tries her best to make amends to marry him, but he refuses to marry her.', 'On the day of the wedding, Sattu realizes his love for Aarti and gate-crashes into her wedding.', \"The film ends with Aarti & Sattu's marriage and a romantic song.\", '<END>']]\n",
            "Nested Count:  2\n",
            "Sentence count in each nested list:  11\n",
            "Sentence count in each nested list:  10\n"
          ]
        }
      ]
    },
    {
      "cell_type": "code",
      "metadata": {
        "id": "m3Qn5Dn5_cES"
      },
      "source": [
        "device = 'cuda'"
      ],
      "execution_count": null,
      "outputs": []
    },
    {
      "cell_type": "code",
      "source": [
        "new"
      ],
      "metadata": {
        "colab": {
          "base_uri": "https://localhost:8080/"
        },
        "id": "XyHvbXsgKupl",
        "outputId": "c701aae5-e29d-43b2-a301-5e113d305355"
      },
      "execution_count": null,
      "outputs": [
        {
          "output_type": "execute_result",
          "data": {
            "text/plain": [
              "[[\"<START> Aarti finds Sattu's off-traditional views charming and had put a only thing in front of him that after marriage, her in-laws will allow her for job, while Sattu is mesmerized by Aarti's beauty and agrees.\",\n",
              "  'Sattu and Aarti decide to move forward and both of them fall in love with each other.',\n",
              "  'On the night of marriage, Aarti comes to know that she has cleared the PCS exam.',\n",
              "  \"Aabha Shukla (Nayani Dixit), her sister, warns her that if she gets married, her in-laws won't let her pursue the career dreams that she has.\",\n",
              "  \"On Aabha's and maternal uncle Jogi Sinha's (Manoj Pahwa) provocation, Aarti decides to run-away from her house without informing Sattu or his family.\",\n",
              "  'Sattu is shocked to know about the incident and is left heartbroken.',\n",
              "  \"During the end, a fight erupts as Jogi forces Sattu's family to return dowry money.\",\n",
              "  \"Sattu agrees to pay back which leaves his family to undergo hard times with loss of face in the society, and his mother Shanti Mishra (Alka Amin) being forced selling all her jewelry to repay the money to Aarti's family.\",\n",
              "  'She even helps her best friend Neelam Gupta to get a job in the same office.',\n",
              "  'Aarti is accused of taking a bribe and suspended till her case is resolved.',\n",
              "  'During the investigation, Aarti discovers to her horror that the officer in charge of her case is Satyendra, who has now become an IAS officer.'],\n",
              " ['Throughout the investigation process, the evidence Satyendra finds leans towards Aarti taking a bribe.',\n",
              "  \"Satyendra gives her an option and asks for the bribe, though Aarti confirms she doesn't have it.\",\n",
              "  \"Aarti goes to Kukreja Gupta, a builder and Neelam's husband, to ask him for the bribe money, but he tells her that he did not take anything and that everyone already knows she does take bribes.\",\n",
              "  \"It is revealed by Satyendra's explanation of the video that Kukreja, Neelam, and a broker Rakesh were friends and that they've been selling unused government land to businesses under Aarti's name.\",\n",
              "  \"They were able to because of Neelam misusing Aarti's trust and by getting papers signed in her ignorance.\",\n",
              "  'Aarti is shocked to find out that Sattu saved her life by sending her to prison and also saved her from jail time by revealing the truth.',\n",
              "  'Aarti knows Sattu still loves her and later tries her best to make amends to marry him, but he refuses to marry her.',\n",
              "  'On the day of the wedding, Sattu realizes his love for Aarti and gate-crashes into her wedding.',\n",
              "  \"The film ends with Aarti & Sattu's marriage and a romantic song.\",\n",
              "  '<END>']]"
            ]
          },
          "metadata": {},
          "execution_count": 72
        }
      ]
    },
    {
      "cell_type": "code",
      "metadata": {
        "id": "6_Wnu548A6Vi"
      },
      "source": [
        "def generate_summary(nested_sentences):\n",
        "  device = 'cuda'\n",
        "  summaries = []\n",
        "  for nested in nested_sentences:\n",
        "    input_tokenized = bart_tokenizer.encode(' '.join(nested), truncation=True, return_tensors='pt', add_special_tokens = False, verbose = True)\n",
        "    input_tokenized = input_tokenized.to(device)\n",
        "    summary_ids = bart_model.to('cuda').generate(input_tokenized,\n",
        "                                      \n",
        "                                      num_beams=5,\n",
        "                                      no_repeat_ngram_size=2,\n",
        "                                      min_length=124,\n",
        "                                      max_length=231,\n",
        "                                      early_stopping=True,\n",
        "                                      do_sample=True)\n",
        "    output = [bart_tokenizer.decode(g, skip_special_tokens=True, clean_up_tokenization_spaces=True) for g in summary_ids]\n",
        "    summaries.append(output)\n",
        "  summaries = [sentence for sublist in summaries for sentence in sublist]\n",
        "  return summaries"
      ],
      "execution_count": null,
      "outputs": []
    },
    {
      "cell_type": "code",
      "metadata": {
        "id": "GO82ts9cBBGY",
        "colab": {
          "base_uri": "https://localhost:8080/"
        },
        "outputId": "7ef99c77-d55e-4aaa-d094-a018bba76a02"
      },
      "source": [
        "summ = generate_summary(new)"
      ],
      "execution_count": null,
      "outputs": [
        {
          "output_type": "stream",
          "name": "stderr",
          "text": [
            "/usr/local/lib/python3.7/dist-packages/transformers/generation_utils.py:2259: UserWarning: __floordiv__ is deprecated, and its behavior will change in a future version of pytorch. It currently rounds toward 0 (like the 'trunc' function NOT 'floor'). This results in incorrect rounding for negative values. To keep the current behavior, use torch.div(a, b, rounding_mode='trunc'), or for actual floor division, use torch.div(a, b, rounding_mode='floor').\n",
            "  next_indices = next_tokens // vocab_size\n"
          ]
        }
      ]
    },
    {
      "cell_type": "code",
      "metadata": {
        "colab": {
          "base_uri": "https://localhost:8080/"
        },
        "id": "oWDzSDzcBLlc",
        "outputId": "1b7d65ed-74dc-4d63-e6b2-0d32012e440f"
      },
      "source": [
        "summ"
      ],
      "execution_count": null,
      "outputs": [
        {
          "output_type": "execute_result",
          "data": {
            "text/plain": [
              "[\"Aarti finds Sattu's off-traditional views charming and had put a only thing in front of him that after marriage, her in-laws will allow her for job. Aabha Shukla (Nayani Dixit), her sister, warns her that if she gets married, she won't be able to pursue her career dreams. On a\\xa0provocation\\xa0she decides to run-away from her house without informing her family. She even helps her best friend Neelam Gupta to get a job in the same office. After she is accused of taking a bribe and suspended till her case is resolved she discovers to her horror that the officer in charge is Satyendra, who has now become an IAS officer.\",\n",
              " \"Aarti goes to Kukreja Gupta, a builder and Neelam's husband, to ask him for the bribe money, but he tells her that he did not take anything and that everyone already knows she does take bribes. It is revealed by Satyendra's explanation of the video that they've been selling unused government land to businesses under Aartsi's name. They were able to because of Neelsam misusing Aarshi's trust and by getting papers signed in her ignorance. Aartu is shocked to find out that Sattu saved her life by sending her to prison and also saving her from jail time by revealing the truth. She later tries her best to make amends to marry him.\"]"
            ]
          },
          "metadata": {},
          "execution_count": 75
        }
      ]
    },
    {
      "cell_type": "code",
      "source": [
        "for i in range(len(summ)):\n",
        "  summ[i] = summ[i].lower()\n",
        "print(summ)"
      ],
      "metadata": {
        "colab": {
          "base_uri": "https://localhost:8080/"
        },
        "id": "YMZz3eB7fC6b",
        "outputId": "7e833403-41f7-463c-d693-aff6daefab9a"
      },
      "execution_count": null,
      "outputs": [
        {
          "output_type": "stream",
          "name": "stdout",
          "text": [
            "[\"aarti finds sattu's off-traditional views charming and had put a only thing in front of him that after marriage, her in-laws will allow her for job. aabha shukla (nayani dixit), her sister, warns her that if she gets married, she won't be able to pursue her career dreams. on a\\xa0provocation\\xa0she decides to run-away from her house without informing her family. she even helps her best friend neelam gupta to get a job in the same office. after she is accused of taking a bribe and suspended till her case is resolved she discovers to her horror that the officer in charge is satyendra, who has now become an ias officer.\", \"aarti goes to kukreja gupta, a builder and neelam's husband, to ask him for the bribe money, but he tells her that he did not take anything and that everyone already knows she does take bribes. it is revealed by satyendra's explanation of the video that they've been selling unused government land to businesses under aartsi's name. they were able to because of neelsam misusing aarshi's trust and by getting papers signed in her ignorance. aartu is shocked to find out that sattu saved her life by sending her to prison and also saving her from jail time by revealing the truth. she later tries her best to make amends to marry him.\"]\n"
          ]
        }
      ]
    },
    {
      "cell_type": "code",
      "source": [
        ""
      ],
      "metadata": {
        "id": "XgtgaCAThP6M"
      },
      "execution_count": null,
      "outputs": []
    }
  ]
}